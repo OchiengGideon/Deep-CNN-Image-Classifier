{
 "cells": [
  {
   "cell_type": "code",
   "execution_count": 32,
   "metadata": {},
   "outputs": [],
   "source": [
    "import tensorflow as tf\n",
    "import os"
   ]
  },
  {
   "cell_type": "code",
   "execution_count": 33,
   "metadata": {},
   "outputs": [
    {
     "data": {
      "text/plain": [
       "[]"
      ]
     },
     "execution_count": 33,
     "metadata": {},
     "output_type": "execute_result"
    }
   ],
   "source": [
    "# Limiting tensorflow from using all the memory that can cause OOM error\n",
    "gpus = tf.config.experimental.list_physical_devices(\"GPU\")\n",
    "gpus"
   ]
  },
  {
   "cell_type": "code",
   "execution_count": 34,
   "metadata": {},
   "outputs": [],
   "source": [
    "for gpu in gpus:\n",
    "  tf.config.experimental.set_memory_growth(gpu, True)"
   ]
  },
  {
   "cell_type": "markdown",
   "metadata": {},
   "source": [
    "## Removing Doggy Images  "
   ]
  },
  {
   "cell_type": "code",
   "execution_count": 35,
   "metadata": {},
   "outputs": [],
   "source": [
    "import cv2\n",
    "import imghdr\n",
    "import matplotlib.pyplot as plt"
   ]
  },
  {
   "cell_type": "code",
   "execution_count": 36,
   "metadata": {},
   "outputs": [],
   "source": [
    "data__dir = \"Data\""
   ]
  },
  {
   "cell_type": "code",
   "execution_count": 37,
   "metadata": {},
   "outputs": [],
   "source": [
    "image_exts = ['jpg', \"png\", \"jpeg\", \"bmp\"]"
   ]
  },
  {
   "cell_type": "code",
   "execution_count": 38,
   "metadata": {},
   "outputs": [
    {
     "name": "stdout",
     "output_type": "stream",
     "text": [
      "Image not in ext list Data\\adult\\193755_main.jpg\n",
      "Image not in ext list Data\\adult\\800px-New-Adult-Romane-in-einer-Buchhandlung.jpg\n",
      "Image not in ext list Data\\adult\\adult-man-serene-face-expression-260nw-622738085.jpg\n",
      "Image not in ext list Data\\adult\\gildan-ultra-cotton-adult-t-shirt_7878_productmain.webp\n",
      "Image not in ext list Data\\adult\\handsome-mid-adult-man-smiling-260nw-710258758.jpg\n",
      "Image not in ext list Data\\adult\\parenting-your-adult-children-through-prayer-66b143d1368d1-1.webp\n",
      "Image not in ext list Data\\adult\\portrait-happy-mid-adult-man-600nw-1812937819.jpg\n",
      "Image not in ext list Data\\adult\\Snr-Large-600px-01-jpg.webp\n",
      "Image not in ext list Data\\adult\\young-brazilian-man-isolated-on-600nw-2242569333.jpg\n",
      "Image not in ext list Data\\infant\\1200px-The_newborn_baby_in_men.jpg\n",
      "Image not in ext list Data\\infant\\22263-jaudince-in-newborns.jpeg\n",
      "Image not in ext list Data\\infant\\babies-diapers.jpg\n",
      "Image not in ext list Data\\infant\\black-infants-have-doubled-mortality-rates-in-rich-countries.jpg\n",
      "Image not in ext list Data\\infant\\CAL_EMEA_UK_5010123722630_8392011_Original_Infant_Suspension.webp\n",
      "Image not in ext list Data\\infant\\cute-little-african-american-infant-600nw-1937038210.jpg\n",
      "Image not in ext list Data\\infant\\DSCF3608.jpg\n",
      "Image not in ext list Data\\infant\\infant-surgery-gillespie-approach-craniosacral-fascial-thera.jpg\n",
      "Image not in ext list Data\\infant\\infantilespasms.jpg\n",
      "Image not in ext list Data\\infant\\infant_diarrhea_thumb-732x549.jpg\n"
     ]
    }
   ],
   "source": [
    "for image_class in os.listdir(data__dir):\n",
    "  for image in os.listdir(os.path.join(data__dir, image_class)):\n",
    "    image_path = os.path.join(data__dir, image_class,image)\n",
    "    try:\n",
    "      img = cv2.imread(image_path)\n",
    "      tip = imghdr.what(image_path)\n",
    "\n",
    "      if tip not in image_exts:\n",
    "        print(\"Image not in ext list {}\".format(image_path))\n",
    "        os.remove(image_path)\n",
    "\n",
    "    except Exception as e:\n",
    "      print(\"Issue with image {}\".format(image_path))"
   ]
  },
  {
   "cell_type": "code",
   "execution_count": null,
   "metadata": {},
   "outputs": [],
   "source": []
  }
 ],
 "metadata": {
  "kernelspec": {
   "display_name": "learn-env",
   "language": "python",
   "name": "python3"
  },
  "language_info": {
   "codemirror_mode": {
    "name": "ipython",
    "version": 3
   },
   "file_extension": ".py",
   "mimetype": "text/x-python",
   "name": "python",
   "nbconvert_exporter": "python",
   "pygments_lexer": "ipython3",
   "version": "3.8.5"
  }
 },
 "nbformat": 4,
 "nbformat_minor": 2
}
